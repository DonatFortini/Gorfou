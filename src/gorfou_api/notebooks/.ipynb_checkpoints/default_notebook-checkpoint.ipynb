{
 "cells": [
  {
   "cell_type": "code",
   "execution_count": 1,
   "id": "e5d2b53b",
   "metadata": {
    "execution": {
     "iopub.execute_input": "2023-03-12T06:42:03.595993Z",
     "iopub.status.busy": "2023-03-12T06:42:03.595993Z",
     "iopub.status.idle": "2023-03-12T06:42:03.668512Z",
     "shell.execute_reply": "2023-03-12T06:42:03.667509Z"
    },
    "papermill": {
     "duration": 0.078501,
     "end_time": "2023-03-12T06:42:03.669510",
     "exception": false,
     "start_time": "2023-03-12T06:42:03.591009",
     "status": "completed"
    },
    "tags": []
   },
   "outputs": [],
   "source": [
    "%load_ext autoreload\n",
    "%autoreload 2"
   ]
  },
  {
   "cell_type": "code",
   "execution_count": 2,
   "id": "68a2f93f",
   "metadata": {
    "execution": {
     "iopub.execute_input": "2023-03-12T06:42:03.677511Z",
     "iopub.status.busy": "2023-03-12T06:42:03.677511Z",
     "iopub.status.idle": "2023-03-12T06:42:03.761028Z",
     "shell.execute_reply": "2023-03-12T06:42:03.761028Z"
    },
    "papermill": {
     "duration": 0.089518,
     "end_time": "2023-03-12T06:42:03.763028",
     "exception": false,
     "start_time": "2023-03-12T06:42:03.673510",
     "status": "completed"
    },
    "tags": []
   },
   "outputs": [
    {
     "name": "stdout",
     "output_type": "stream",
     "text": [
      "ce notebook à été créer à l'aide de garfou !\n",
      "test\n"
     ]
    }
   ],
   "source": [
    "print(\"ce notebook à été créer à l'aide de garfou !\")\n",
    "print(\"test\")"
   ]
  }
 ],
 "metadata": {
  "kernelspec": {
   "display_name": "Python 3 (ipykernel)",
   "language": "python",
   "name": "python3"
  },
  "language_info": {
   "codemirror_mode": {
    "name": "ipython",
    "version": 3
   },
   "file_extension": ".py",
   "mimetype": "text/x-python",
   "name": "python",
   "nbconvert_exporter": "python",
   "pygments_lexer": "ipython3",
   "version": "3.9.13"
  },
  "papermill": {
   "default_parameters": {},
   "duration": 2.620016,
   "end_time": "2023-03-12T06:42:04.013830",
   "environment_variables": {},
   "exception": null,
   "input_path": "C:\\Users\\theop\\Projet_developement\\src\\gorfou_api\\notebooks\\default_notebook.ipynb",
   "output_path": "C:\\Users\\theop\\Projet_developement\\src\\gorfou_api\\notebooks\\default_notebook.ipynb",
   "parameters": {},
   "start_time": "2023-03-12T06:42:01.393814",
   "version": "2.3.4"
  }
 },
 "nbformat": 4,
 "nbformat_minor": 5
}
