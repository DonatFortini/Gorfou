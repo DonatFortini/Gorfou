{
  "cells": [
    {
      "cell_type": "code",
      "execution_count": 1,
      "metadata": {},
      "outputs": [],
      "source": [
        "%load_ext autoreload\n",
        "%autoreload 2"
      ]
    },
    {
      "cell_type": "code",
      "execution_count": 2,
      "metadata": {},
      "outputs": [
        {
          "name": "stdout",
          "output_type": "stream",
          "text": [
            "ce notebook à été créer à l'aide de garfou !\n"
          ]
        }
      ],
      "source": [
        "print(\"ce notebook à été créer à l'aide de garfou !\")",
        "import pandas as pd",
        "X=pd.read_csv(/home/donat/Documents/GitHub/Gorfou/src/datasets/Penguins.csv,sep=';')",
        "from sklearn.ensemble import RandomForestClassifier",
        "from sklearn.model_selection import cross_val_score"
      ]
    },
    {
      "cell_type": "code",
      "execution_count": 2,
      "metadata": {},
      "outputs": [],
      "source": [
        "X,y=(4, 3)",
        "random_forest_classifier=RandomForestClassifier(0)",
        "random_forest_classifier.fit(X,y)",
        "random_forest_classifier.score(X,y),cross_val_score(random_forest_classifier,X,y)"
      ]
    }
  ],
  "metadata": {
    "kernelspec": {
      "display_name": "gorfou",
      "language": "python",
      "name": "python3"
    },
    "language_info": {
      "codemirror_mode": {
        "name": "ipython",
        "version": 3
      },
      "file_extension": ".py",
      "mimetype": "text/x-python",
      "name": "python",
      "nbconvert_exporter": "python",
      "pygments_lexer": "ipython3",
      "version": "3.10.9"
    },
    "orig_nbformat": 4
  },
  "nbformat": 4,
  "nbformat_minor": 2
}