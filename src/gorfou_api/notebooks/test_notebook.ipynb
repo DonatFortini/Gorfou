{
 "cells": [
  {
   "cell_type": "code",
   "execution_count": 1,
   "id": "8d5d737d",
   "metadata": {
    "execution": {
     "iopub.execute_input": "2023-03-12T09:41:51.318908Z",
     "iopub.status.busy": "2023-03-12T09:41:51.318908Z",
     "iopub.status.idle": "2023-03-12T09:41:51.391349Z",
     "shell.execute_reply": "2023-03-12T09:41:51.391349Z"
    },
    "papermill": {
     "duration": 0.078437,
     "end_time": "2023-03-12T09:41:51.393349",
     "exception": false,
     "start_time": "2023-03-12T09:41:51.314912",
     "status": "completed"
    },
    "tags": []
   },
   "outputs": [],
   "source": [
    "%load_ext autoreload\n",
    "%autoreload 2"
   ]
  },
  {
   "cell_type": "code",
   "execution_count": 2,
   "id": "a12b979d",
   "metadata": {
    "execution": {
     "iopub.execute_input": "2023-03-12T09:41:51.401358Z",
     "iopub.status.busy": "2023-03-12T09:41:51.401358Z",
     "iopub.status.idle": "2023-03-12T09:41:51.485357Z",
     "shell.execute_reply": "2023-03-12T09:41:51.484355Z"
    },
    "papermill": {
     "duration": 0.090004,
     "end_time": "2023-03-12T09:41:51.486356",
     "exception": false,
     "start_time": "2023-03-12T09:41:51.396352",
     "status": "completed"
    },
    "tags": []
   },
   "outputs": [
    {
     "name": "stdout",
     "output_type": "stream",
     "text": [
      "hello from a python script !\n"
     ]
    }
   ],
   "source": [
    "print('hello from a python script !')"
   ]
  }
 ],
 "metadata": {
  "kernelspec": {
   "display_name": "Python 3 (ipykernel)",
   "language": "python",
   "name": "python3"
  },
  "language_info": {
   "codemirror_mode": {
    "name": "ipython",
    "version": 3
   },
   "file_extension": ".py",
   "mimetype": "text/x-python",
   "name": "python",
   "nbconvert_exporter": "python",
   "pygments_lexer": "ipython3",
   "version": "3.9.13"
  },
  "papermill": {
   "default_parameters": {},
   "duration": 2.546541,
   "end_time": "2023-03-12T09:41:51.721997",
   "environment_variables": {},
   "exception": null,
   "input_path": "C:\\Users\\theop\\Projet_developement\\src\\gorfou_api\\notebooks\\test_notebook.ipynb",
   "output_path": "C:\\Users\\theop\\Projet_developement\\src\\gorfou_api\\notebooks\\test_notebook.ipynb",
   "parameters": {},
   "start_time": "2023-03-12T09:41:49.175456",
   "version": "2.3.4"
  }
 },
 "nbformat": 4,
 "nbformat_minor": 5
}
