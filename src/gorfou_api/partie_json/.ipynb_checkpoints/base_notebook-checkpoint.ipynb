{
 "cells": [
  {
   "cell_type": "code",
   "execution_count": null,
   "id": "565e92c0",
   "metadata": {
    "execution": {
     "iopub.execute_input": "2023-03-11T20:32:20.912087Z",
     "iopub.status.busy": "2023-03-11T20:32:20.912087Z",
     "iopub.status.idle": "2023-03-11T20:32:20.987136Z",
     "shell.execute_reply": "2023-03-11T20:32:20.986117Z"
    },
    "papermill": {
     "duration": null,
     "end_time": null,
     "exception": null,
     "start_time": null,
     "status": "pending"
    },
    "tags": []
   },
   "outputs": [],
   "source": [
    "%load_ext autoreload\n",
    "%autoreload 2"
   ]
  },
  {
   "cell_type": "code",
   "execution_count": null,
   "id": "c8612c79",
   "metadata": {
    "execution": {
     "iopub.execute_input": "2023-03-11T20:32:20.996293Z",
     "iopub.status.busy": "2023-03-11T20:32:20.996293Z",
     "iopub.status.idle": "2023-03-11T20:32:21.082302Z",
     "shell.execute_reply": "2023-03-11T20:32:21.081299Z"
    },
    "papermill": {
     "duration": null,
     "end_time": null,
     "exception": null,
     "start_time": null,
     "status": "pending"
    },
    "tags": []
   },
   "outputs": [],
   "source": [
    "print(\"aaaaaaaabbbbbb\")"
   ]
  },
  {
   "cell_type": "code",
   "execution_count": null,
   "id": "72762deb",
   "metadata": {},
   "outputs": [],
   "source": [
    "%autoreload now"
   ]
  },
  {
   "cell_type": "code",
   "execution_count": null,
   "id": "819806d4",
   "metadata": {},
   "outputs": [],
   "source": [
    "import importlib\n",
    "importlib.reload(my_module)"
   ]
  }
 ],
 "metadata": {
  "kernelspec": {
   "display_name": "Python 3 (ipykernel)",
   "language": "python",
   "name": "python3"
  },
  "language_info": {
   "codemirror_mode": {
    "name": "ipython",
    "version": 3
   },
   "file_extension": ".py",
   "mimetype": "text/x-python",
   "name": "python",
   "nbconvert_exporter": "python",
   "pygments_lexer": "ipython3",
   "version": "3.9.13"
  },
  "papermill": {
   "default_parameters": {},
   "duration": null,
   "end_time": null,
   "environment_variables": {},
   "exception": null,
   "input_path": "C:\\Users\\theop\\Projet_developement\\src\\gorfou_api\\partie_json\\base_notebook.ipynb",
   "output_path": "C:\\Users\\theop\\Projet_developement\\src\\gorfou_api\\partie_json\\base_notebook.ipynb",
   "parameters": {},
   "start_time": "2023-03-11T20:49:55.873224",
   "version": "2.3.4"
  }
 },
 "nbformat": 4,
 "nbformat_minor": 5
}
