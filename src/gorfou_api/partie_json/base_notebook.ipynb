{
 "cells": [
  {
   "cell_type": "code",
   "execution_count": 1,
   "id": "565e92c0",
   "metadata": {
    "execution": {
     "iopub.execute_input": "2023-03-11T21:02:31.380976Z",
     "iopub.status.busy": "2023-03-11T21:02:31.380976Z",
     "iopub.status.idle": "2023-03-11T21:02:31.390815Z",
     "shell.execute_reply": "2023-03-11T21:02:31.390815Z"
    },
    "papermill": {
     "duration": 0.016872,
     "end_time": "2023-03-11T21:02:31.392837",
     "exception": false,
     "start_time": "2023-03-11T21:02:31.375965",
     "status": "completed"
    },
    "tags": []
   },
   "outputs": [
    {
     "name": "stdout",
     "output_type": "stream",
     "text": [
      "aaaaaaaa\n"
     ]
    }
   ],
   "source": [
    "%load_ext autoreload\n",
    "%autoreload 2"
   ]
  },
  {
   "cell_type": "code",
   "execution_count": 2,
   "id": "c8612c79",
   "metadata": {
    "execution": {
     "iopub.execute_input": "2023-03-11T21:02:31.400835Z",
     "iopub.status.busy": "2023-03-11T21:02:31.399836Z",
     "iopub.status.idle": "2023-03-11T21:02:31.406859Z",
     "shell.execute_reply": "2023-03-11T21:02:31.406859Z"
    },
    "papermill": {
     "duration": 0.013023,
     "end_time": "2023-03-11T21:02:31.408858",
     "exception": false,
     "start_time": "2023-03-11T21:02:31.395835",
     "status": "completed"
    },
    "tags": []
   },
   "outputs": [
    {
     "name": "stdout",
     "output_type": "stream",
     "text": [
      "aaaaaaaa\n"
     ]
    }
   ],
   "source": [
    "print(\"aaaaaaaa\")"
   ]
  }
 ],
 "metadata": {
  "kernelspec": {
   "display_name": "Python 3 (ipykernel)",
   "language": "python",
   "name": "python3"
  },
  "language_info": {
   "codemirror_mode": {
    "name": "ipython",
    "version": 3
   },
   "file_extension": ".py",
   "mimetype": "text/x-python",
   "name": "python",
   "nbconvert_exporter": "python",
   "pygments_lexer": "ipython3",
   "version": "3.9.13"
  },
  "papermill": {
   "default_parameters": {},
   "duration": 2.380922,
   "end_time": "2023-03-11T21:02:31.657925",
   "environment_variables": {},
   "exception": true,
   "input_path": "C:\\Users\\theop\\Projet_developement\\src\\gorfou_api\\partie_json\\base_notebook.ipynb",
   "output_path": "C:\\Users\\theop\\Projet_developement\\src\\gorfou_api\\partie_json\\base_notebook.ipynb",
   "parameters": {},
   "start_time": "2023-03-11T21:02:29.277003",
   "version": "2.3.4"
  }
 },
 "nbformat": 4,
 "nbformat_minor": 5
}
