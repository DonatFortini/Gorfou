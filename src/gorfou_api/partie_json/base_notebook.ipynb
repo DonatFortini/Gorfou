{
 "cells": [
  {
   "cell_type": "code",
   "execution_count": 1,
   "id": "565e92c0",
   "metadata": {
    "execution": {
     "iopub.execute_input": "2023-03-11T20:32:20.912087Z",
     "iopub.status.busy": "2023-03-11T20:32:20.912087Z",
     "iopub.status.idle": "2023-03-11T20:32:20.987136Z",
     "shell.execute_reply": "2023-03-11T20:32:20.986117Z"
    },
    "papermill": {
     "duration": 0.08183,
     "end_time": "2023-03-11T20:32:20.989136",
     "exception": false,
     "start_time": "2023-03-11T20:32:20.907306",
     "status": "completed"
    },
    "tags": []
   },
   "outputs": [],
   "source": [
    "%load_ext autoreload\n",
    "%autoreload 2"
   ]
  },
  {
   "cell_type": "code",
   "execution_count": 2,
   "id": "c8612c79",
   "metadata": {
    "execution": {
     "iopub.execute_input": "2023-03-11T20:32:20.996293Z",
     "iopub.status.busy": "2023-03-11T20:32:20.996293Z",
     "iopub.status.idle": "2023-03-11T20:32:21.082302Z",
     "shell.execute_reply": "2023-03-11T20:32:21.081299Z"
    },
    "papermill": {
     "duration": 0.092009,
     "end_time": "2023-03-11T20:32:21.084302",
     "exception": false,
     "start_time": "2023-03-11T20:32:20.992293",
     "status": "completed"
    },
    "tags": []
   },
   "outputs": [
    {
     "name": "stdout",
     "output_type": "stream",
     "text": [
      "aaaaaaaa\n"
     ]
    }
   ],
   "source": [
    "print(\"aaaaaaaa\")"
   ]
  }
 ],
 "metadata": {
  "kernelspec": {
   "display_name": "gorfou",
   "language": "python",
   "name": "python3"
  },
  "language_info": {
   "codemirror_mode": {
    "name": "ipython",
    "version": 3
   },
   "file_extension": ".py",
   "mimetype": "text/x-python",
   "name": "python",
   "nbconvert_exporter": "python",
   "pygments_lexer": "ipython3",
   "version": "3.10.9"
  },
  "papermill": {
   "default_parameters": {},
   "duration": 2.728428,
   "end_time": "2023-03-11T20:32:21.443067",
   "environment_variables": {},
   "exception": null,
   "input_path": "C:\\Users\\theop\\Projet_developement\\src\\gorfou_api\\partie_json\\base_notebook.ipynb",
   "output_path": "C:\\Users\\theop\\Projet_developement\\src\\gorfou_api\\partie_json\\base_notebook.ipynb",
   "parameters": {},
   "start_time": "2023-03-11T20:32:18.714639",
   "version": "2.3.4"
  }
 },
 "nbformat": 4,
 "nbformat_minor": 5
}